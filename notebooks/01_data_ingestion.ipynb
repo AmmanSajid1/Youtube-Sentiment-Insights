{
 "cells": [
  {
   "cell_type": "markdown",
   "id": "e21c4e0d",
   "metadata": {},
   "source": [
    "# Data Ingestion"
   ]
  },
  {
   "cell_type": "code",
   "execution_count": 22,
   "id": "43f5b5bf",
   "metadata": {},
   "outputs": [],
   "source": [
    "import pandas as pd\n",
    "from datasets import load_dataset\n",
    "import os"
   ]
  },
  {
   "cell_type": "code",
   "execution_count": 23,
   "id": "a06bc7b1",
   "metadata": {},
   "outputs": [
    {
     "data": {
      "text/plain": [
       "'c:\\\\Users\\\\amman\\\\Documents\\\\MLOPS\\\\Youtube-Sentiment-Insights'"
      ]
     },
     "execution_count": 23,
     "metadata": {},
     "output_type": "execute_result"
    }
   ],
   "source": [
    "os.getcwd()"
   ]
  },
  {
   "cell_type": "code",
   "execution_count": 4,
   "id": "d0c3abd6",
   "metadata": {},
   "outputs": [],
   "source": [
    "os.chdir(\"../\")"
   ]
  },
  {
   "cell_type": "code",
   "execution_count": 5,
   "id": "c1af6204",
   "metadata": {},
   "outputs": [
    {
     "data": {
      "text/plain": [
       "'c:\\\\Users\\\\amman\\\\Documents\\\\MLOPS\\\\Youtube-Sentiment-Insights'"
      ]
     },
     "execution_count": 5,
     "metadata": {},
     "output_type": "execute_result"
    }
   ],
   "source": [
    "os.getcwd()"
   ]
  },
  {
   "cell_type": "code",
   "execution_count": 24,
   "id": "80068f7a",
   "metadata": {},
   "outputs": [
    {
     "data": {
      "text/html": [
       "<div>\n",
       "<style scoped>\n",
       "    .dataframe tbody tr th:only-of-type {\n",
       "        vertical-align: middle;\n",
       "    }\n",
       "\n",
       "    .dataframe tbody tr th {\n",
       "        vertical-align: top;\n",
       "    }\n",
       "\n",
       "    .dataframe thead th {\n",
       "        text-align: right;\n",
       "    }\n",
       "</style>\n",
       "<table border=\"1\" class=\"dataframe\">\n",
       "  <thead>\n",
       "    <tr style=\"text-align: right;\">\n",
       "      <th></th>\n",
       "      <th>CommentID</th>\n",
       "      <th>VideoID</th>\n",
       "      <th>VideoTitle</th>\n",
       "      <th>AuthorName</th>\n",
       "      <th>AuthorChannelID</th>\n",
       "      <th>CommentText</th>\n",
       "      <th>Sentiment</th>\n",
       "      <th>Likes</th>\n",
       "      <th>Replies</th>\n",
       "      <th>PublishedAt</th>\n",
       "      <th>CountryCode</th>\n",
       "      <th>CategoryID</th>\n",
       "    </tr>\n",
       "  </thead>\n",
       "  <tbody>\n",
       "    <tr>\n",
       "      <th>0</th>\n",
       "      <td>UgyRjrEdJIPrf68uND14AaABAg</td>\n",
       "      <td>mcY4M9gjtsI</td>\n",
       "      <td>They killed my friend.#tales #movie #shorts</td>\n",
       "      <td>@OneWhoWandered</td>\n",
       "      <td>UC_-UEXaBL1dqqUPGkDll49A</td>\n",
       "      <td>Anyone know what movie this is?</td>\n",
       "      <td>Neutral</td>\n",
       "      <td>0</td>\n",
       "      <td>2</td>\n",
       "      <td>2025-01-15 00:54:55</td>\n",
       "      <td>NZ</td>\n",
       "      <td>1</td>\n",
       "    </tr>\n",
       "    <tr>\n",
       "      <th>1</th>\n",
       "      <td>UgxXxEIySAwnMNw8D7N4AaABAg</td>\n",
       "      <td>2vuXcw9SZbA</td>\n",
       "      <td>Man Utd conceding first penalty at home in yea...</td>\n",
       "      <td>@chiefvon3068</td>\n",
       "      <td>UCZ1LcZESjYqzaQRhjdZJFwg</td>\n",
       "      <td>The fact they're holding each other back while...</td>\n",
       "      <td>Positive</td>\n",
       "      <td>0</td>\n",
       "      <td>0</td>\n",
       "      <td>2025-01-13 23:51:46</td>\n",
       "      <td>AU</td>\n",
       "      <td>17</td>\n",
       "    </tr>\n",
       "    <tr>\n",
       "      <th>2</th>\n",
       "      <td>UgxB0jh2Ur41mcXr5IB4AaABAg</td>\n",
       "      <td>papg2tsoFzg</td>\n",
       "      <td>Welcome to Javascript Course</td>\n",
       "      <td>@Abdulla-ip8qr</td>\n",
       "      <td>UCWBK35w5Swy1iF5xIbEyw3A</td>\n",
       "      <td>waiting next video will be?</td>\n",
       "      <td>Neutral</td>\n",
       "      <td>1</td>\n",
       "      <td>0</td>\n",
       "      <td>2020-07-06 13:18:16</td>\n",
       "      <td>IN</td>\n",
       "      <td>27</td>\n",
       "    </tr>\n",
       "    <tr>\n",
       "      <th>3</th>\n",
       "      <td>UgwMOh95MfK0GuXLLrF4AaABAg</td>\n",
       "      <td>31KTdfRH6nY</td>\n",
       "      <td>Building web applications in Java with Spring ...</td>\n",
       "      <td>@finnianthehuman</td>\n",
       "      <td>UCwQ2Z03nOcMxWozBb_Cv66w</td>\n",
       "      <td>Thanks for the great video.\\n\\nI don't underst...</td>\n",
       "      <td>Neutral</td>\n",
       "      <td>0</td>\n",
       "      <td>1</td>\n",
       "      <td>2024-09-18 12:04:12</td>\n",
       "      <td>US</td>\n",
       "      <td>27</td>\n",
       "    </tr>\n",
       "    <tr>\n",
       "      <th>4</th>\n",
       "      <td>UgxJuUe5ysG8OSbABAl4AaABAg</td>\n",
       "      <td>-hV6aeyPHPA</td>\n",
       "      <td>After a new engine her car dies on her way hom...</td>\n",
       "      <td>@ryoutubeplaylistb6137</td>\n",
       "      <td>UCTTcJ0tsAKQokmHB2qVb1qQ</td>\n",
       "      <td>Good person helping good people.\\nThis is how ...</td>\n",
       "      <td>Positive</td>\n",
       "      <td>3</td>\n",
       "      <td>1</td>\n",
       "      <td>2025-01-10 19:39:03</td>\n",
       "      <td>US</td>\n",
       "      <td>2</td>\n",
       "    </tr>\n",
       "  </tbody>\n",
       "</table>\n",
       "</div>"
      ],
      "text/plain": [
       "                    CommentID      VideoID  ... CountryCode CategoryID\n",
       "0  UgyRjrEdJIPrf68uND14AaABAg  mcY4M9gjtsI  ...          NZ          1\n",
       "1  UgxXxEIySAwnMNw8D7N4AaABAg  2vuXcw9SZbA  ...          AU         17\n",
       "2  UgxB0jh2Ur41mcXr5IB4AaABAg  papg2tsoFzg  ...          IN         27\n",
       "3  UgwMOh95MfK0GuXLLrF4AaABAg  31KTdfRH6nY  ...          US         27\n",
       "4  UgxJuUe5ysG8OSbABAl4AaABAg  -hV6aeyPHPA  ...          US          2\n",
       "\n",
       "[5 rows x 12 columns]"
      ]
     },
     "execution_count": 24,
     "metadata": {},
     "output_type": "execute_result"
    }
   ],
   "source": [
    "data = load_dataset(\"AmaanP314/youtube-comment-sentiment\", split=\"train\")\n",
    "df = data.to_pandas()\n",
    "df.head()"
   ]
  },
  {
   "cell_type": "markdown",
   "id": "b8663b80",
   "metadata": {},
   "source": [
    "We will only use the ``CommentText `` and ``Sentiment`` columns"
   ]
  },
  {
   "cell_type": "code",
   "execution_count": 25,
   "id": "00e03c01",
   "metadata": {},
   "outputs": [],
   "source": [
    "columns_to_keep = ['CommentText', 'Sentiment']\n",
    "df = df[columns_to_keep]\n",
    "df.columns = ['text', 'label']"
   ]
  },
  {
   "cell_type": "code",
   "execution_count": 26,
   "id": "0568162c",
   "metadata": {},
   "outputs": [
    {
     "data": {
      "text/html": [
       "<div>\n",
       "<style scoped>\n",
       "    .dataframe tbody tr th:only-of-type {\n",
       "        vertical-align: middle;\n",
       "    }\n",
       "\n",
       "    .dataframe tbody tr th {\n",
       "        vertical-align: top;\n",
       "    }\n",
       "\n",
       "    .dataframe thead th {\n",
       "        text-align: right;\n",
       "    }\n",
       "</style>\n",
       "<table border=\"1\" class=\"dataframe\">\n",
       "  <thead>\n",
       "    <tr style=\"text-align: right;\">\n",
       "      <th></th>\n",
       "      <th>text</th>\n",
       "      <th>label</th>\n",
       "    </tr>\n",
       "  </thead>\n",
       "  <tbody>\n",
       "    <tr>\n",
       "      <th>0</th>\n",
       "      <td>Anyone know what movie this is?</td>\n",
       "      <td>Neutral</td>\n",
       "    </tr>\n",
       "    <tr>\n",
       "      <th>1</th>\n",
       "      <td>The fact they're holding each other back while...</td>\n",
       "      <td>Positive</td>\n",
       "    </tr>\n",
       "    <tr>\n",
       "      <th>2</th>\n",
       "      <td>waiting next video will be?</td>\n",
       "      <td>Neutral</td>\n",
       "    </tr>\n",
       "    <tr>\n",
       "      <th>3</th>\n",
       "      <td>Thanks for the great video.\\n\\nI don't underst...</td>\n",
       "      <td>Neutral</td>\n",
       "    </tr>\n",
       "    <tr>\n",
       "      <th>4</th>\n",
       "      <td>Good person helping good people.\\nThis is how ...</td>\n",
       "      <td>Positive</td>\n",
       "    </tr>\n",
       "  </tbody>\n",
       "</table>\n",
       "</div>"
      ],
      "text/plain": [
       "                                                text     label\n",
       "0                    Anyone know what movie this is?   Neutral\n",
       "1  The fact they're holding each other back while...  Positive\n",
       "2                        waiting next video will be?   Neutral\n",
       "3  Thanks for the great video.\\n\\nI don't underst...   Neutral\n",
       "4  Good person helping good people.\\nThis is how ...  Positive"
      ]
     },
     "execution_count": 26,
     "metadata": {},
     "output_type": "execute_result"
    }
   ],
   "source": [
    "df.head()"
   ]
  },
  {
   "cell_type": "code",
   "execution_count": 11,
   "id": "49e0ec55",
   "metadata": {},
   "outputs": [
    {
     "data": {
      "text/plain": [
       "(1032225, 2)"
      ]
     },
     "execution_count": 11,
     "metadata": {},
     "output_type": "execute_result"
    }
   ],
   "source": [
    "df.shape"
   ]
  },
  {
   "cell_type": "code",
   "execution_count": 20,
   "id": "c985a5fd",
   "metadata": {},
   "outputs": [
    {
     "data": {
      "text/html": [
       "<div>\n",
       "<style scoped>\n",
       "    .dataframe tbody tr th:only-of-type {\n",
       "        vertical-align: middle;\n",
       "    }\n",
       "\n",
       "    .dataframe tbody tr th {\n",
       "        vertical-align: top;\n",
       "    }\n",
       "\n",
       "    .dataframe thead th {\n",
       "        text-align: right;\n",
       "    }\n",
       "</style>\n",
       "<table border=\"1\" class=\"dataframe\">\n",
       "  <thead>\n",
       "    <tr style=\"text-align: right;\">\n",
       "      <th></th>\n",
       "      <th>text</th>\n",
       "      <th>label</th>\n",
       "    </tr>\n",
       "  </thead>\n",
       "  <tbody>\n",
       "    <tr>\n",
       "      <th>372732</th>\n",
       "      <td>I would much prefer a mint condition Cortina M...</td>\n",
       "      <td>-1</td>\n",
       "    </tr>\n",
       "  </tbody>\n",
       "</table>\n",
       "</div>"
      ],
      "text/plain": [
       "                                                     text  label\n",
       "372732  I would much prefer a mint condition Cortina M...     -1"
      ]
     },
     "execution_count": 20,
     "metadata": {},
     "output_type": "execute_result"
    }
   ],
   "source": [
    "df.sample(1)"
   ]
  },
  {
   "cell_type": "code",
   "execution_count": 27,
   "id": "dc225639",
   "metadata": {},
   "outputs": [],
   "source": [
    "# Save to CSV\n",
    "df.to_csv(\"data/youtube_comment_sentiment.csv\", index=False)"
   ]
  }
 ],
 "metadata": {
  "kernelspec": {
   "display_name": "venv",
   "language": "python",
   "name": "python3"
  },
  "language_info": {
   "codemirror_mode": {
    "name": "ipython",
    "version": 3
   },
   "file_extension": ".py",
   "mimetype": "text/x-python",
   "name": "python",
   "nbconvert_exporter": "python",
   "pygments_lexer": "ipython3",
   "version": "3.10.16"
  }
 },
 "nbformat": 4,
 "nbformat_minor": 5
}
